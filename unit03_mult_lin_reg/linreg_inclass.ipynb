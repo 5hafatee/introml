{
 "cells": [
  {
   "cell_type": "markdown",
   "metadata": {},
   "source": [
    "# Multiple Linear Regression In-class Exercise\n",
    "\n",
    "Before starting to the lab, the following exercise, we will do a very simple example of fitting a model on synthetic data.  In doing this exercise, you will learn to:\n",
    "\n",
    "* Evaluate methods using synthetic data\n",
    "* Describe nonlinear basis functions for a model\n",
    "* Define the transformations to the basis functions with a `transform` method\n",
    "* Fit the linear model using the transformed features\n",
    "\n",
    "We begin by loading the packages we will need."
   ]
  },
  {
   "cell_type": "code",
   "execution_count": 1,
   "metadata": {},
   "outputs": [],
   "source": [
    "import numpy as np\n",
    "import matplotlib\n",
    "import matplotlib.pyplot as plt\n",
    "from sklearn import linear_model"
   ]
  },
  {
   "cell_type": "markdown",
   "metadata": {},
   "source": [
    "## Create Synthetic Data\n",
    "\n",
    "Synthetic data means data we create artificially for the purpose of testing as opposed to actual data.  In this case, we will simulate that we have data that has some *true* relationship,\n",
    "\n",
    "    y = f(t) +  w\n",
    "    \n",
    "for some function `f(t)` and noise `w`.  We will *pretend* that the estimator does not know the true function `f(t)` and must learn this from data.  We first generate some random samples as follows:"
   ]
  },
  {
   "cell_type": "code",
   "execution_count": 2,
   "metadata": {},
   "outputs": [],
   "source": [
    "nsamp = 200\n",
    "t = np.random.uniform(0,5,nsamp)\n",
    "y = 2*t*np.exp(-1.3*t) + 1 + np.random.normal(0,0.02,nsamp)"
   ]
  },
  {
   "cell_type": "markdown",
   "metadata": {},
   "source": [
    "Create a scatter plot of `y` vs `t`.  "
   ]
  },
  {
   "cell_type": "code",
   "execution_count": 3,
   "metadata": {},
   "outputs": [],
   "source": [
    "# TODO"
   ]
  },
  {
   "cell_type": "markdown",
   "metadata": {},
   "source": [
    "## Transforming the data\n",
    "You should see that the relation `t` and `y`. is not linear.  So we will try to fit a model of the form:\n",
    "\n",
    "    y \\approx yhat = b + sum_j w[j]*cos(pi*(j+1)*t/tmax),  tmax = 5\n",
    "    \n",
    "This is sometimes called a discrete cosine transform (DCT).  The model is *nonlinear* in `t` but linear in the parameters \n",
    "\n",
    "To perform the transform, it is useful to create a transform function as below that maps the vector `t` to a matrix `X` with columns `X[:,j] = cos(pi*(j+1)*t/tmax)`.   Complete this function"
   ]
  },
  {
   "cell_type": "code",
   "execution_count": 4,
   "metadata": {},
   "outputs": [],
   "source": [
    "def transform(t):\n",
    "    \"\"\"\n",
    "    Creates a matrix with the transformed cosine terms:\n",
    "    \n",
    "    X[:,j] = cos(pi*(j+1)*t/tmax)\n",
    "    \"\"\"\n",
    "    p = 10\n",
    "    tmax = 5\n",
    "    nt = len(t)\n",
    "    \n",
    "    # TODO: \n",
    "    #  X = ...\n",
    "        \n",
    "    return X"
   ]
  },
  {
   "cell_type": "markdown",
   "metadata": {},
   "source": [
    "## Fitting the Data using the Transformed Model\n",
    "\n",
    "We are now ready to fit the model using the transform.  First split `t` and `y` into training and test, `ttr,ytr` and `tts,yts`.  Use the first 100 samples for test and the last 100 samples for test. "
   ]
  },
  {
   "cell_type": "code",
   "execution_count": 5,
   "metadata": {},
   "outputs": [],
   "source": [
    "ntr = 100\n",
    "\n",
    "# TODO\n",
    "# ttr = ...\n",
    "# tts = ...\n",
    "# ytr = ...\n",
    "# yts = ..."
   ]
  },
  {
   "cell_type": "markdown",
   "metadata": {},
   "source": [
    "Using the `transform()` method above, create the transformed data `Xtr,Xts` from `ttr,tts`."
   ]
  },
  {
   "cell_type": "code",
   "execution_count": 6,
   "metadata": {},
   "outputs": [],
   "source": [
    "# TODO\n",
    "#  Xtr = ...\n",
    "#  Xts= ..."
   ]
  },
  {
   "cell_type": "markdown",
   "metadata": {},
   "source": [
    "Create a `LinearRegression` object, `regr` and fit it using the training data."
   ]
  },
  {
   "cell_type": "code",
   "execution_count": 7,
   "metadata": {},
   "outputs": [],
   "source": [
    "# TODO\n",
    "#  regr = ...\n",
    "#  regr.fit(...)"
   ]
  },
  {
   "cell_type": "markdown",
   "metadata": {},
   "source": [
    "## Evaluate Predictions on Test Data\n",
    "\n",
    "Use the `regr.predict()` method to find `yhat`, the predicted value of \n",
    "`y` on the test data values `tts`.  "
   ]
  },
  {
   "cell_type": "code",
   "execution_count": 8,
   "metadata": {},
   "outputs": [],
   "source": [
    "# TODO\n",
    "#   yhat = ..."
   ]
  },
  {
   "cell_type": "markdown",
   "metadata": {},
   "source": [
    "One one plot, plot scatter plots of `yts vs tts` and `yhat vs tts`.  Create a legend for your graph and add grid lines."
   ]
  },
  {
   "cell_type": "code",
   "execution_count": 9,
   "metadata": {},
   "outputs": [],
   "source": [
    "# TODO"
   ]
  },
  {
   "cell_type": "markdown",
   "metadata": {},
   "source": [
    "Plot the predicted values of `y`for values `t` in the interval `[0,5]`.  "
   ]
  },
  {
   "cell_type": "code",
   "execution_count": 10,
   "metadata": {},
   "outputs": [],
   "source": [
    "# TODO"
   ]
  },
  {
   "cell_type": "code",
   "execution_count": null,
   "metadata": {},
   "outputs": [],
   "source": []
  }
 ],
 "metadata": {
  "kernelspec": {
   "display_name": "Python 3",
   "language": "python",
   "name": "python3"
  },
  "language_info": {
   "codemirror_mode": {
    "name": "ipython",
    "version": 3
   },
   "file_extension": ".py",
   "mimetype": "text/x-python",
   "name": "python",
   "nbconvert_exporter": "python",
   "pygments_lexer": "ipython3",
   "version": "3.7.4"
  }
 },
 "nbformat": 4,
 "nbformat_minor": 2
}
