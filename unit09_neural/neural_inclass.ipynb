{
 "cells": [
  {
   "cell_type": "markdown",
   "metadata": {},
   "source": [
    "# Neural Network In-Class Exercises\n",
    "\n",
    "These are the in-class exercises accompanying the Neural networks unit.  Do these exercises as you progress through the sections in the lecture."
   ]
  },
  {
   "cell_type": "code",
   "execution_count": 1,
   "metadata": {},
   "outputs": [],
   "source": [
    "import numpy as np\n",
    "import matplotlib.pyplot as plt"
   ]
  },
  {
   "cell_type": "markdown",
   "metadata": {},
   "source": [
    "## Exercise 1\n",
    "\n",
    "Consider a neural network where, for each scalar input `x`, it outputs a predicted value `yhat` as follows:\n",
    "\n",
    "    zh = wh*x + bh\n",
    "    uh = 1/(1 + exp(-zh))   # Sigmoid activation\n",
    "    zo = uh.dot(wo) + bo\n",
    "    yhat = zo               # No activation\n",
    "\n",
    "Using the parameter values below, for scalar inputs `x` in the range of -4 to 8:\n",
    "\n",
    "*  Plot `uh` vs `x`.  Since there are three hidden units, your graph should have three curves\n",
    "*  Plot `yhat` vs `x`.  Since there is one output unit, your graph should have one curve"
   ]
  },
  {
   "cell_type": "code",
   "execution_count": null,
   "metadata": {},
   "outputs": [],
   "source": [
    "x = np.linspace(-4,8,100)\n",
    "wh = np.array([1,1,1])\n",
    "bh = -np.array([0,2,4])\n",
    "wo = np.array([1,-2,0.5])\n",
    "bo = 0.1\n",
    "\n",
    "# TODO\n",
    "#   uh = ...\n",
    "#   yhat = ..."
   ]
  }
 ],
 "metadata": {
  "kernelspec": {
   "display_name": "Python 3",
   "language": "python",
   "name": "python3"
  },
  "language_info": {
   "codemirror_mode": {
    "name": "ipython",
    "version": 3
   },
   "file_extension": ".py",
   "mimetype": "text/x-python",
   "name": "python",
   "nbconvert_exporter": "python",
   "pygments_lexer": "ipython3",
   "version": "3.8.3"
  }
 },
 "nbformat": 4,
 "nbformat_minor": 4
}
