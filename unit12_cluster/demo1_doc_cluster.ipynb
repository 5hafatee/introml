{
 "cells": [
  {
   "cell_type": "markdown",
   "metadata": {
    "collapsed": true
   },
   "source": [
    "# Demo:  Document Clustering and Latent Semantic Analysis\n",
    "\n",
    "An important application of clustering is for sorting documents into groups.  In this demo, we will illustrate how to use the k-means algorithms for this task.  This example is taken mostly from one of the [sklearn examples](http://scikit-learn.org/stable/auto_examples/text/document_clustering.html).\n",
    "\n",
    "Through the demo, you will learn how to:\n",
    "* Represent a corpus as a set of strings\n",
    "* Build a vocabulary from a corpus\n",
    "* Compute the TF-IDF scores for the documents in the corpus based on the vocabulary\n",
    "* Run k-means to automatically discover document clusters\n",
    "* Display key terms in each document cluster\n",
    "* Perform an LSA on a corpus with a sparse SVD."
   ]
  },
  {
   "cell_type": "markdown",
   "metadata": {},
   "source": [
    "## Loading the Data\n",
    "\n",
    "First, we load the standard packages along with a number of `sklearn` sub-packages for text processing."
   ]
  },
  {
   "cell_type": "code",
   "execution_count": 38,
   "metadata": {},
   "outputs": [],
   "source": [
    "from sklearn.datasets import fetch_20newsgroups\n",
    "from sklearn.decomposition import TruncatedSVD\n",
    "from sklearn.feature_extraction.text import TfidfVectorizer\n",
    "from sklearn.feature_extraction.text import HashingVectorizer\n",
    "from sklearn.feature_extraction.text import TfidfTransformer\n",
    "from sklearn.pipeline import make_pipeline\n",
    "from sklearn.preprocessing import Normalizer\n",
    "from sklearn import metrics\n",
    "\n",
    "from sklearn.cluster import KMeans, MiniBatchKMeans\n",
    "\n",
    "import sys\n",
    "from time import time\n",
    "\n",
    "import numpy as np"
   ]
  },
  {
   "cell_type": "markdown",
   "metadata": {},
   "source": [
    "The [UseNet newsgroups](https://en.wikipedia.org/wiki/Usenet_newsgroup) were popular 20 years ago as online forums for discussing various issues.  Although they are not used much today for topic discussions, the posts from that era are still widely-used in machine learning classes for demonstrating various text processing methods.  Due to their wide use, the `sklearn` package has a built-in routine `fetch_20newsgroups` for extracting the newsgroup examples.  The code below can be used to get a subset of categories or all categories."
   ]
  },
  {
   "cell_type": "code",
   "execution_count": 88,
   "metadata": {},
   "outputs": [
    {
     "name": "stdout",
     "output_type": "stream",
     "text": [
      "Loading 20 newsgroups dataset for selected categories\n"
     ]
    }
   ],
   "source": [
    "use_all_categories = True\n",
    "if use_all_categories:\n",
    "    categories = None\n",
    "else:\n",
    "    categories = [\n",
    "        'alt.atheism',\n",
    "        'talk.religion.misc',\n",
    "        'comp.graphics',\n",
    "        'sci.space',\n",
    "    ]\n",
    "\n",
    "print(\"Loading 20 newsgroups dataset for selected categories\")\n",
    "dataset = fetch_20newsgroups(subset='all', categories=categories,\n",
    "                             shuffle=True, random_state=42)"
   ]
  },
  {
   "cell_type": "markdown",
   "metadata": {},
   "source": [
    "We print out the categories and the number of documents in each category.  We see the `dataset` has two key fields:\n",
    "\n",
    "* `dataset.target_names`:  The names of the categories\n",
    "* `dataset.target`:  The index of the category for each post"
   ]
  },
  {
   "cell_type": "code",
   "execution_count": 90,
   "metadata": {},
   "outputs": [
    {
     "name": "stdout",
     "output_type": "stream",
     "text": [
      "alt.atheism                   : 799 \n",
      "comp.graphics                 : 973 \n",
      "comp.os.ms-windows.misc       : 985 \n",
      "comp.sys.ibm.pc.hardware      : 982 \n",
      "comp.sys.mac.hardware         : 963 \n",
      "comp.windows.x                : 988 \n",
      "misc.forsale                  : 975 \n",
      "rec.autos                     : 990 \n",
      "rec.motorcycles               : 996 \n",
      "rec.sport.baseball            : 994 \n",
      "rec.sport.hockey              : 999 \n",
      "sci.crypt                     : 991 \n",
      "sci.electronics               : 984 \n",
      "sci.med                       : 990 \n",
      "sci.space                     : 987 \n",
      "soc.religion.christian        : 997 \n",
      "talk.politics.guns            : 910 \n",
      "talk.politics.mideast         : 940 \n",
      "talk.politics.misc            : 775 \n",
      "talk.religion.misc            : 628 \n"
     ]
    }
   ],
   "source": [
    "categories = dataset.target_names\n",
    "labels = dataset.target\n",
    "ncat = len(categories)\n",
    "for i in range(ncat):\n",
    "    cnt = np.sum(labels == i)\n",
    "    print('%-30s: %d ' % (categories[i], cnt))"
   ]
  },
  {
   "cell_type": "markdown",
   "metadata": {},
   "source": [
    "The data is in the `data` field of `dataset`.  Each entry `dataset.data[i]` is a string corresponding to the post to the newsgroup.  We can print an example as follows."
   ]
  },
  {
   "cell_type": "code",
   "execution_count": 91,
   "metadata": {},
   "outputs": [
    {
     "name": "stdout",
     "output_type": "stream",
     "text": [
      "Post from rec.autos\n",
      "\n",
      "From: jackw@boi.hp.com (jack wood)\n",
      "Subject: Re: Chevy/GMC 4x4 Fullsize Pickups, Opinions?\n",
      "Distribution: na\n",
      "Organization: Hewlett-Packard / Boise, Idaho\n",
      "X-Newsreader: TIN [version 1.1.4 PL6]\n",
      "Lines: 41\n",
      "\n",
      "Dick Grady (grady@world.std.com) wrote:\n",
      ": \n",
      ": I am considering buying a 1993 Chevy or GMC 4x4 full-size pickup with\n",
      ": the extended cab.  Any opinions about these vehicles?  Have there been\n",
      ": any significant problems?\n",
      ": \n",
      ": -- \n",
      ": Dick Grady           Salem, NH,  USA            grady@world.std.com\n",
      ": So many newsgroups, so little time!\n",
      "\n",
      "\n",
      "I bought a brand new 1992 Chevrolet K2500 HD 4x4 extended cab last\n",
      "May.  It has had many, many problems.  See my earler post that describes\n",
      "the situation.  I went to BBB arbitration, and they ruled that Chevrolet\n",
      "must buy it back from me.  If you do get one, stay away from the 5 speed\n",
      "manual with the deep low first gear.  They have put three of them in my\n",
      "truck so far.  After about 1,500 miles, overdrive either starts\n",
      "rattling or hissing loudly.  There is no way to fix them.  Chevrolet \n",
      "says that the noise is \"a characteristic of the transmission.\"\n",
      "\n",
      "Also, if you are planning to use your truck to tow, the\n",
      "gear ratios in that tranny suck.  On a steep hill, you get up to about\n",
      "55 MPH in second gear at 4,000 RPM (yellow line).  If you shift to third,\n",
      "the RPM drop to only 2,500, and you begin to loose speed.  I should\n",
      "point out that the 350 V8 they put in the HD (8600 GVW) trucks is a\n",
      "detuned motor compared to the one they put in the light duty ones.  They\n",
      "dropped the compression ratio, supposedly for \"engine longevity\"\n",
      "reasons.  So the light duty 350 may pull better than my truck does.\n",
      "Other things that have gone wrong include the ventilation fan (3 times \n",
      "so far), paint (had specs of rust embedded in the paint from being\n",
      "shipped by rail with no covering), and suspension parts (link between\n",
      "stabilizer and control arm fell off).\n",
      "\n",
      "Any company can make a bad individual car, Chevrolet included.  What\n",
      "really bothered me was the way they reacted.  They made no attempt\n",
      "to deal with me except to tell me to take it back to the dealer for \n",
      "them to attempt to fix it one more time.  So I bought a brand new\n",
      "Ford F250 HD Super Cab with a 460 and an automatic.  I will never\n",
      "buy another Chevrolet.\n",
      "\n",
      "jackw@hpdmd48.boi.hp.com\n",
      "\n"
     ]
    }
   ],
   "source": [
    "doc_ind = 20  # Index of an example document\n",
    "data_ex = dataset.data[doc_ind]\n",
    "cat_ex  = dataset.target_names[labels[doc_ind]]\n",
    "print('Post from {0:s}'.format(cat_ex))\n",
    "print()\n",
    "print(data_ex)"
   ]
  },
  {
   "cell_type": "markdown",
   "metadata": {},
   "source": [
    "## Computing TF-IDF features\n",
    "\n",
    "Documents are natively text.  To apply most machine learning algorithms, we need to convert the documents to vectors.  One popular method is the so-called TF-IDF score.  First, we select a set of words in the corpus.  Each word is sometimes called a *token*.  For each token `n` and document `i`, we then compute the data matrix:\n",
    "      \n",
    "    X[n,i] = TF-IDF score of word i in document n\n",
    "           = term freq[n,i] * inverse doc frequency[i]\n",
    "           \n",
    "where\n",
    "\n",
    "    term freq[n,i]  = (#occurances of word i in doc n)/(#words in doc n)  \n",
    "    inverse doc freq[i] = log(#docs in corpus/#docs with word i)\n",
    "        \n",
    "In the data matrix `X`, each document `n` is represented by a vector `X[n,:]`.\n",
    "\n",
    "The data matrix `X` can be computed by a *vectorizer*.  Writing an efficient vectorizer is somewhat time-consuming.  Luckily, `sklearn` has very good routines to compute the TF-IDF representations of a corpus.  We first create a `TfidfVectorizer` object:"
   ]
  },
  {
   "cell_type": "code",
   "execution_count": 92,
   "metadata": {},
   "outputs": [],
   "source": [
    "vectorizer = TfidfVectorizer( \n",
    "                max_df=0.5, # max doc freq (as a fraction) of any word to include in the vocabulary\n",
    "                min_df=2,   # min doc freq (as doc counts) of any word to include in the vocabulary\n",
    "                max_features=10000,           # max number of words in the vocabulary\n",
    "                stop_words='english',         # remove English stopwords\n",
    "                use_idf=True )        # use IDF scores"
   ]
  },
  {
   "cell_type": "markdown",
   "metadata": {},
   "source": [
    "Then, we create the data matrix from the dataset."
   ]
  },
  {
   "cell_type": "code",
   "execution_count": 93,
   "metadata": {},
   "outputs": [
    {
     "name": "stdout",
     "output_type": "stream",
     "text": [
      "Extracting features from the training dataset using a sparse vectorizer\n",
      "done in 3.737130s\n",
      "n_samples: 18846, n_features: 10000\n"
     ]
    }
   ],
   "source": [
    "print(\"Extracting features from the training dataset using a sparse vectorizer\")\n",
    "t0 = time()\n",
    "X = vectorizer.fit_transform(dataset.data)\n",
    "print(\"done in %fs\" % (time() - t0))\n",
    "print(\"n_samples: %d, n_features: %d\" % X.shape)"
   ]
  },
  {
   "cell_type": "markdown",
   "metadata": {},
   "source": [
    "We can display the terms with the highest TF-IDF scores in a post as follows."
   ]
  },
  {
   "cell_type": "code",
   "execution_count": 95,
   "metadata": {},
   "outputs": [
    {
     "name": "stdout",
     "output_type": "stream",
     "text": [
      "grady                0.352524 \n",
      "truck                0.217618 \n",
      "gear                 0.216398 \n",
      "hd                   0.192578 \n",
      "boi                  0.169038 \n",
      "chevy                0.166363 \n",
      "rpm                  0.163060 \n",
      "350                  0.147700 \n",
      "dick                 0.143673 \n",
      "duty                 0.141442 \n",
      "paint                0.137826 \n",
      "extended             0.134956 \n",
      "brand                0.129220 \n",
      "std                  0.127186 \n",
      "fix                  0.126137 \n",
      "500                  0.115667 \n",
      "attempt              0.115309 \n",
      "bought               0.110747 \n",
      "light                0.105704 \n",
      "hp                   0.101480 \n",
      "speed                0.100635 \n",
      "buy                  0.094978 \n",
      "com                  0.088686 \n",
      "problems             0.088631 \n",
      "salem                0.088521 \n",
      "opinions             0.088382 \n",
      "rail                 0.086027 \n",
      "embedded             0.084239 \n",
      "characteristic       0.083437 \n",
      "far                  0.082767 \n"
     ]
    }
   ],
   "source": [
    "doc_ind = 20  # Index of an example document\n",
    "xi = X[doc_ind,:].todense()\n",
    "term_ind = np.fliplr(xi.argsort())\n",
    "xi_sort = xi[0,term_ind]\n",
    "terms = vectorizer.get_feature_names()\n",
    "\n",
    "for i in range(30):\n",
    "    term = terms[term_ind[0,i]]\n",
    "    tfidf = xi[0,term_ind[0,i]]\n",
    "    print('{0:20s} {1:f} '.format(term, tfidf))"
   ]
  },
  {
   "cell_type": "markdown",
   "metadata": {},
   "source": [
    "## Run k-Means\n",
    "\n",
    "We now run k-means on the TF-IDF vectors to try  to automatically detect clusters.  First, we construct a `kMeans` object to perform the clustering."
   ]
  },
  {
   "cell_type": "code",
   "execution_count": 96,
   "metadata": {},
   "outputs": [],
   "source": [
    "n_clusters = 4\n",
    "km = KMeans(n_clusters=n_clusters, init='k-means++', max_iter=100, n_init=1,\n",
    "                verbose=True)"
   ]
  },
  {
   "cell_type": "markdown",
   "metadata": {
    "collapsed": true
   },
   "source": [
    "Then, we run the k-means clustering.  This will run through several iterations."
   ]
  },
  {
   "cell_type": "code",
   "execution_count": 97,
   "metadata": {
    "scrolled": true
   },
   "outputs": [
    {
     "name": "stdout",
     "output_type": "stream",
     "text": [
      "Clustering sparse data with KMeans(max_iter=100, n_clusters=4, n_init=1, verbose=True)\n",
      "Initialization complete\n",
      "Iteration 0, inertia 36308.55050753375\n",
      "Iteration 1, inertia 18483.78491841037\n",
      "Iteration 2, inertia 18449.502064743752\n",
      "Iteration 3, inertia 18435.418734316725\n",
      "Iteration 4, inertia 18425.497261784905\n",
      "Iteration 5, inertia 18421.03470869525\n",
      "Iteration 6, inertia 18418.94116476523\n",
      "Iteration 7, inertia 18417.230428206916\n",
      "Iteration 8, inertia 18415.384950171392\n",
      "Iteration 9, inertia 18413.987962558203\n",
      "Iteration 10, inertia 18412.99329233192\n",
      "Iteration 11, inertia 18412.171536205227\n",
      "Iteration 12, inertia 18411.60837661232\n",
      "Iteration 13, inertia 18411.225307704204\n",
      "Iteration 14, inertia 18410.892197952897\n",
      "Iteration 15, inertia 18410.599707570695\n",
      "Iteration 16, inertia 18410.367291957944\n",
      "Iteration 17, inertia 18410.20232294416\n",
      "Iteration 18, inertia 18410.102683963843\n",
      "Iteration 19, inertia 18410.022130359208\n",
      "Iteration 20, inertia 18409.953056320624\n",
      "Iteration 21, inertia 18409.89323704692\n",
      "Iteration 22, inertia 18409.84093257174\n",
      "Iteration 23, inertia 18409.81243694899\n",
      "Iteration 24, inertia 18409.796024149007\n",
      "Iteration 25, inertia 18409.781423535125\n",
      "Iteration 26, inertia 18409.768889107483\n",
      "Iteration 27, inertia 18409.75872799079\n",
      "Iteration 28, inertia 18409.749737643684\n",
      "Iteration 29, inertia 18409.742443900308\n",
      "Iteration 30, inertia 18409.73016934399\n",
      "Iteration 31, inertia 18409.719185963066\n",
      "Iteration 32, inertia 18409.710309146118\n",
      "Iteration 33, inertia 18409.70443808642\n",
      "Iteration 34, inertia 18409.699969241658\n",
      "Iteration 35, inertia 18409.696832537327\n",
      "Iteration 36, inertia 18409.69508185692\n",
      "Iteration 37, inertia 18409.694703918136\n",
      "Converged at iteration 37: center shift 1.5772211300955778e-33 within tolerance 9.844308442311186e-09\n",
      "done in 5.209s\n",
      "\n"
     ]
    }
   ],
   "source": [
    "print(\"Clustering sparse data with %s\" % km)\n",
    "t0 = time()\n",
    "km.fit(X)\n",
    "print(\"done in %0.3fs\" % (time() - t0))\n",
    "print()"
   ]
  },
  {
   "cell_type": "markdown",
   "metadata": {},
   "source": [
    "To get an idea of the clusters, we print out the terms corresponding to the 10 largest components of the centroid in each cluster.  You can clearly see the clustering of topics."
   ]
  },
  {
   "cell_type": "code",
   "execution_count": 100,
   "metadata": {},
   "outputs": [
    {
     "name": "stdout",
     "output_type": "stream",
     "text": [
      "Cluster 0: com netcom article key hp posting clipper nntp host access\n",
      "Cluster 1: windows drive card dos file thanks university use pc com\n",
      "Cluster 2: god people don jesus think com say just believe israel\n",
      "Cluster 3: university ca posting article host nntp cs just like know\n"
     ]
    }
   ],
   "source": [
    "order_centroids = np.fliplr(np.argsort(km.cluster_centers_,axis=1))\n",
    "for i in range(n_clusters):\n",
    "    print(\"Cluster %d:\" % i, end='')\n",
    "    for ind in order_centroids[i, :10]:\n",
    "        print(' %s' % terms[ind], end='')\n",
    "    print()"
   ]
  },
  {
   "cell_type": "markdown",
   "metadata": {},
   "source": [
    "We next print the percentage each category appears in one of the four clusters.  We see that certain categories are mostly contained in specific clusters found by k-means."
   ]
  },
  {
   "cell_type": "code",
   "execution_count": 102,
   "metadata": {},
   "outputs": [
    {
     "name": "stdout",
     "output_type": "stream",
     "text": [
      "alt.atheism                              0.168 0.004 0.631 0.198 \n",
      "comp.graphics                            0.113 0.584 0.003 0.300 \n",
      "comp.os.ms-windows.misc                  0.074 0.819 0.004 0.103 \n",
      "comp.sys.ibm.pc.hardware                 0.118 0.738 0.000 0.144 \n",
      "comp.sys.mac.hardware                    0.077 0.591 0.001 0.331 \n",
      "comp.windows.x                           0.133 0.671 0.000 0.196 \n",
      "misc.forsale                             0.123 0.248 0.001 0.628 \n",
      "rec.autos                                0.334 0.005 0.011 0.649 \n",
      "rec.motorcycles                          0.427 0.007 0.004 0.562 \n",
      "rec.sport.baseball                       0.149 0.000 0.007 0.844 \n",
      "rec.sport.hockey                         0.042 0.000 0.003 0.955 \n",
      "sci.crypt                                0.812 0.046 0.035 0.106 \n",
      "sci.electronics                          0.205 0.177 0.000 0.618 \n",
      "sci.med                                  0.246 0.007 0.040 0.706 \n",
      "sci.space                                0.203 0.014 0.016 0.767 \n",
      "soc.religion.christian                   0.067 0.007 0.772 0.153 \n",
      "talk.politics.guns                       0.376 0.001 0.386 0.237 \n",
      "talk.politics.mideast                    0.073 0.000 0.701 0.226 \n",
      "talk.politics.misc                       0.261 0.000 0.383 0.356 \n",
      "talk.religion.misc                       0.161 0.002 0.588 0.250 \n"
     ]
    }
   ],
   "source": [
    "cnt = np.zeros((ncat,n_clusters), dtype=int)\n",
    "for i, cat in enumerate(categories):\n",
    "    print('%-40s ' % cat, end='')\n",
    "    for j in range(n_clusters):\n",
    "        cnt[i,j] = np.sum((labelkm==j) & (labels==i))\n",
    "    cntp = cnt[i,:] / np.sum(cnt[i,:])\n",
    "    for j in range(n_clusters):\n",
    "        print('%5.3f ' % cntp[j], end='')\n",
    "    print()\n",
    "\n"
   ]
  },
  {
   "cell_type": "markdown",
   "metadata": {},
   "source": [
    "## LSA Analysis\n",
    "\n",
    "The TF-IDF matrix is typically low rank since there are usually a small number of underlying features.  "
   ]
  },
  {
   "cell_type": "code",
   "execution_count": 116,
   "metadata": {},
   "outputs": [],
   "source": [
    "import scipy.sparse.linalg\n",
    "U1,S1,V1 = scipy.sparse.linalg.svds(X,k=300)"
   ]
  },
  {
   "cell_type": "code",
   "execution_count": 115,
   "metadata": {},
   "outputs": [
    {
     "data": {
      "text/plain": [
       "[<matplotlib.lines.Line2D at 0x1acb18a4400>]"
      ]
     },
     "execution_count": 115,
     "metadata": {},
     "output_type": "execute_result"
    },
    {
     "data": {
      "image/png": "[encoded data removed]",
      "text/plain": [
       "<Figure size 432x288 with 1 Axes>"
      ]
     },
     "metadata": {
      "needs_background": "light"
     },
     "output_type": "display_data"
    }
   ],
   "source": [
    "s = np.flipud(S1)\n",
    "pov = np.cumsum(s**2) / np.sum(s**2)\n",
    "plt.plot(pov)"
   ]
  },
  {
   "cell_type": "code",
   "execution_count": 106,
   "metadata": {},
   "outputs": [],
   "source": [
    "from sklearn.decomposition import TruncatedSVD\n",
    "pca = TruncatedSVD(n_components=100)\n",
    "X_tr = pca.fit_transform(X)"
   ]
  },
  {
   "cell_type": "code",
   "execution_count": 110,
   "metadata": {},
   "outputs": [
    {
     "data": {
      "text/plain": [
       "[<matplotlib.lines.Line2D at 0x1acbd422a00>]"
      ]
     },
     "execution_count": 110,
     "metadata": {},
     "output_type": "execute_result"
    },
    {
     "data": {
      "image/png": "[encoded data removed]",
      "text/plain": [
       "<Figure size 432x288 with 1 Axes>"
      ]
     },
     "metadata": {
      "needs_background": "light"
     },
     "output_type": "display_data"
    }
   ],
   "source": [
    "p = np.cumsum(pca.explained_variance_ratio_)\n",
    "plt.plot(p)"
   ]
  },
  {
   "cell_type": "code",
   "execution_count": 72,
   "metadata": {},
   "outputs": [
    {
     "name": "stdout",
     "output_type": "stream",
     "text": [
      "Initialization complete\n",
      "Iteration 0, inertia 210.81517939508086\n",
      "Iteration 1, inertia 174.7319485592479\n",
      "Iteration 2, inertia 172.1255842873564\n",
      "Iteration 3, inertia 170.9544371946473\n",
      "Iteration 4, inertia 170.47439248151383\n",
      "Iteration 5, inertia 170.19920016091964\n",
      "Iteration 6, inertia 170.03584414279382\n",
      "Iteration 7, inertia 169.9388364297175\n",
      "Iteration 8, inertia 169.87629164183969\n",
      "Iteration 9, inertia 169.8420998619317\n",
      "Iteration 10, inertia 169.82513929958827\n",
      "Iteration 11, inertia 169.81388007000578\n",
      "Iteration 12, inertia 169.80926262653355\n",
      "Converged at iteration 12: center shift 2.861467613817101e-07 within tolerance 3.139215698600419e-07\n"
     ]
    },
    {
     "data": {
      "text/plain": [
       "KMeans(max_iter=100, n_clusters=4, n_init=1, verbose=True)"
      ]
     },
     "execution_count": 72,
     "metadata": {},
     "output_type": "execute_result"
    }
   ],
   "source": [
    "n_clusters = 4\n",
    "km = KMeans(n_clusters=n_clusters, init='k-means++', max_iter=100, n_init=1,\n",
    "                verbose=True)\n",
    "km.fit(X_tr)"
   ]
  },
  {
   "cell_type": "code",
   "execution_count": 81,
   "metadata": {},
   "outputs": [
    {
     "name": "stdout",
     "output_type": "stream",
     "text": [
      "Cluster 0: com article netcom stratus hp sun posting don nntp ibm\n",
      "Cluster 1: university windows ca posting host nntp cs know like thanks\n",
      "Cluster 2: people government key don just com article clipper think like\n",
      "Cluster 3: god jesus people bible christian believe don christians say think\n"
     ]
    }
   ],
   "source": [
    "V = pca.inverse_transform(km.cluster_centers_)\n",
    "order_centroids = np.fliplr(np.argsort(V, axis=1))\n",
    "if 1:\n",
    "    for i in range(n_clusters):\n",
    "        print(\"Cluster %d:\" % i, end='')\n",
    "        for ind in order_centroids[i, :10]:\n",
    "            print(' %s' % terms[ind], end='')\n",
    "        print()"
   ]
  },
  {
   "cell_type": "code",
   "execution_count": 82,
   "metadata": {},
   "outputs": [
    {
     "name": "stdout",
     "output_type": "stream",
     "text": [
      "alt.atheism                              0.000 0.121 0.707 0.171 \n",
      "comp.graphics                            0.000 0.883 0.004 0.113 \n",
      "comp.os.ms-windows.misc                  0.000 0.886 0.004 0.110 \n",
      "comp.sys.ibm.pc.hardware                 0.003 0.852 0.000 0.145 \n",
      "comp.sys.mac.hardware                    0.000 0.916 0.001 0.083 \n",
      "comp.windows.x                           0.000 0.858 0.001 0.141 \n",
      "misc.forsale                             0.017 0.841 0.002 0.139 \n",
      "rec.autos                                0.000 0.518 0.020 0.462 \n",
      "rec.motorcycles                          0.001 0.425 0.012 0.562 \n",
      "rec.sport.baseball                       0.658 0.192 0.005 0.145 \n",
      "rec.sport.hockey                         0.893 0.067 0.002 0.038 \n",
      "sci.crypt                                0.000 0.156 0.052 0.791 \n",
      "sci.electronics                          0.012 0.753 0.000 0.235 \n",
      "sci.med                                  0.084 0.531 0.070 0.315 \n",
      "sci.space                                0.059 0.640 0.036 0.264 \n",
      "soc.religion.christian                   0.000 0.118 0.813 0.068 \n",
      "talk.politics.guns                       0.000 0.127 0.498 0.375 \n",
      "talk.politics.mideast                    0.000 0.146 0.778 0.077 \n",
      "talk.politics.misc                       0.005 0.228 0.381 0.386 \n",
      "talk.religion.misc                       0.002 0.162 0.662 0.174 \n"
     ]
    }
   ],
   "source": [
    "cnt = np.zeros((ncat,n_clusters), dtype=int)\n",
    "for i, cat in enumerate(categories):\n",
    "    print('%-40s ' % cat, end='')\n",
    "    for j in range(n_clusters):\n",
    "        cnt[i,j] = np.sum((labelkm==j) & (labels==i))\n",
    "    cntp = cnt[i,:] / np.sum(cnt[i,:])\n",
    "    for j in range(n_clusters):\n",
    "        print('%5.3f ' % cntp[j], end='')\n",
    "    print()"
   ]
  },
  {
   "cell_type": "markdown",
   "metadata": {},
   "source": [
    "## Comparison of clusters to newsgroup categories\n",
    "\n",
    "The clusters found by k-means were not based on the newsgroup category in which the post came from.  To compare the two, we create a sort of confusion matrix where:\n",
    "\n",
    "`C[i,j] = ` fraction of cluster `j` came from newsgroup `i`."
   ]
  },
  {
   "cell_type": "code",
   "execution_count": null,
   "metadata": {},
   "outputs": [],
   "source": []
  },
  {
   "cell_type": "code",
   "execution_count": 11,
   "metadata": {},
   "outputs": [
    {
     "name": "stdout",
     "output_type": "stream",
     "text": [
      "[[0.0015873  0.07790627 0.55480984 0.79090909]\n",
      " [0.01269841 0.58673159 0.00111857 0.        ]\n",
      " [0.97936508 0.22337188 0.0033557  0.        ]\n",
      " [0.00634921 0.11199026 0.44071588 0.20909091]]\n"
     ]
    }
   ],
   "source": [
    "labelkm = km.labels_\n",
    "from sklearn.metrics import confusion_matrix\n",
    "C = confusion_matrix(labels,labelkm)\n",
    "\n",
    "Csum = np.sum(C,axis=0)\n",
    "Cnorm = C / Csum[None,:]\n",
    "print(Cnorm)"
   ]
  },
  {
   "cell_type": "markdown",
   "metadata": {},
   "source": [
    "To interpret this confusion matrix, let's print out the newsgroup names:"
   ]
  },
  {
   "cell_type": "code",
   "execution_count": 12,
   "metadata": {},
   "outputs": [
    {
     "data": {
      "text/plain": [
       "['alt.atheism', 'comp.graphics', 'sci.space', 'talk.religion.misc']"
      ]
     },
     "execution_count": 12,
     "metadata": {},
     "output_type": "execute_result"
    }
   ],
   "source": [
    "dataset.target_names"
   ]
  },
  {
   "cell_type": "markdown",
   "metadata": {},
   "source": [
    "Now, returning to the confusion matrix, we see that some discovered clusters lie almost entirely within one of the newsgroup subjects.  This is especially true for `comp.graphics` and `sci.space`.  However, some discovered clusters tend to have entries of both `alt.atheism` and `talk.religon.misc`, whose topics are likely to have a lot of overlap."
   ]
  },
  {
   "cell_type": "markdown",
   "metadata": {},
   "source": [
    "We print an example of a post that came from a newsgroup that is different from the most common newsgroup in that cluster."
   ]
  },
  {
   "cell_type": "code",
   "execution_count": 13,
   "metadata": {},
   "outputs": [
    {
     "name": "stdout",
     "output_type": "stream",
     "text": [
      "Actual newsgroup: talk.religion.misc\n",
      "Most common newsgroup in cluster:  alt.atheism\n",
      "\n",
      "From: nrp@st-andrews.ac.uk (Norman R. Paterson)\n",
      "Subject: Re: After 2000 years, can we say that Christian Morality is\n",
      "Organization: St. Andrews University, Scotland.\n",
      "Lines: 16\n",
      "\n",
      "In article <1r59na$e81@fido.asd.sgi.com> livesey@solntze.wpd.sgi.com (Jon Livesey) writes:\n",
      ">In article <1993Apr21.141259.12012@st-andrews.ac.uk>, nrp@st-andrews.ac.uk (Norman R. Paterson) writes:\n",
      ">|> In article <1r2m21$8mo@fido.asd.sgi.com> livesey@solntze.wpd.sgi.com (Jon Livesey) writes:\n",
      "...\n",
      ">> Ok, so you don't claim to have an absolute moral system.  Do you claim\n",
      ">> to have an objective one?  I'll assume your answer is \"yes,\" apologies\n",
      ">> if not.\n",
      ">\n",
      ">I've just spent two solid months arguing that no such thing as an\n",
      ">objective moral system exists.\n",
      ">\n",
      ">jon.\n",
      "\n",
      "Apologies, I've not been paying attention.\n",
      "\n",
      "-Norman\n",
      "\n"
     ]
    }
   ],
   "source": [
    "I = np.where((labels==3) & (labelkm == 3))[0]\n",
    "doc_ind = I[3]\n",
    "ind_cluster = labelkm[doc_ind]\n",
    "km_cat = dataset.target_names[np.argmax(Cnorm[:,ind_cluster])]\n",
    "\n",
    "data_ex = dataset.data[doc_ind]\n",
    "true_cat  = dataset.target_names[labels[doc_ind]]\n",
    "print('Actual newsgroup: {0:s}'.format(true_cat))\n",
    "print('Most common newsgroup in cluster:  {0:s}'.format(km_cat))\n",
    "print()\n",
    "print(data_ex)"
   ]
  },
  {
   "cell_type": "markdown",
   "metadata": {
    "collapsed": true
   },
   "source": [
    "## Latent Semantic Analysis\n",
    "\n",
    "Another important tool in document analysis is [latent semantic analysis (LSA)](https://en.wikipedia.org/wiki/Latent_semantic_analysis).  In LSA, we simply compute an SVD of the TF-IDF matrix,\n",
    "\n",
    "    X = U diag(S) V\n",
    "    \n",
    "This is equivalent to performing a PCA on `X`.  If we let `A = U diag(S)` then `X = AV`.  First, we compute the PCs of `X`.  Since `X` is a sparse matrix, it is preferable to use the sparse `svds` method in the `scipy` package."
   ]
  },
  {
   "cell_type": "code",
   "execution_count": 14,
   "metadata": {},
   "outputs": [],
   "source": [
    "import scipy.sparse.linalg\n",
    "U1,S1,V1 = scipy.sparse.linalg.svds(X,k=300)"
   ]
  },
  {
   "cell_type": "markdown",
   "metadata": {},
   "source": [
    "We can next plot the singular values. We see that the first few singular values are significantly larger than the remaining singular values suggesting that the term-document matrix `X` has a low rank structure."
   ]
  },
  {
   "cell_type": "code",
   "execution_count": 16,
   "metadata": {},
   "outputs": [],
   "source": [
    "import matplotlib.pyplot as plt"
   ]
  },
  {
   "cell_type": "code",
   "execution_count": 38,
   "metadata": {},
   "outputs": [
    {
     "data": {
      "text/plain": [
       "[<matplotlib.lines.Line2D at 0x18b0992fc18>]"
      ]
     },
     "execution_count": 38,
     "metadata": {},
     "output_type": "execute_result"
    },
    {
     "data": {
      "image/png": "[encoded data removed]",
      "text/plain": [
       "<matplotlib.figure.Figure at 0x18b09895748>"
      ]
     },
     "metadata": {},
     "output_type": "display_data"
    }
   ],
   "source": [
    "plt.plot(S1[::-1])"
   ]
  },
  {
   "cell_type": "markdown",
   "metadata": {},
   "source": [
    "Given the low rank structure of `X`, we can write \n",
    "\n",
    "     X[n,i] = \\sum_k A[n,k] V[k,i]\n",
    "     \n",
    "where the sum is over some relatively small number of components.  There are two uses for this representation:\n",
    "* Word and document embeddings:  A[n,:] provides a low-dimensional vector representation of each document.  This is useful pre-processing step in many natural processing (NLP) methods.  This type of representation is closely related to an important topic of *word embeddings* and *document embeddings*.\n",
    "* Topic modeling:  One interpretation of the PCA is that each PC `k` represents some common *topic* in the corpus.  Then, `A[n,k] =` the component of topic `k` in document `n` and `V[k,i]` represents the occurance of word `i` in topic `k`.\n",
    "\n",
    "To get an idea of the words within each PC, we print the words for the largest components in the first 5 PCs.  On a small corpus like 20 newsgroups, the PCs in this case are not very useful.  But, the technique can yield more useful results in larger corpi."
   ]
  },
  {
   "cell_type": "code",
   "execution_count": 41,
   "metadata": {},
   "outputs": [
    {
     "name": "stdout",
     "output_type": "stream",
     "text": [
      "PC 0: muenchen does dan bockamp targa colour shall ch uk man\n",
      "PC 1: phigs government uci 3d khomeini colorado uni rh rayshade screen\n",
      "PC 2: clarke asimov wesleyan values vga physics fl ed pluto tyre\n",
      "PC 3: ericsson color wesleyan point program convenient boeing scott targa jpeg\n",
      "PC 4: thanks muenchen format mac earth pluto color uci true ether\n"
     ]
    }
   ],
   "source": [
    "V1sort = np.abs(V1).argsort()[:, ::-1]\n",
    "for i in range(5):\n",
    "    print(\"PC %d:\" % i, end='')\n",
    "    for ind in V1sort[i, :10]:\n",
    "        print(' %s' % terms[ind], end='')\n",
    "    print()"
   ]
  },
  {
   "cell_type": "code",
   "execution_count": 17,
   "metadata": {},
   "outputs": [
    {
     "data": {
      "text/plain": [
       "(3387, 300)"
      ]
     },
     "execution_count": 17,
     "metadata": {},
     "output_type": "execute_result"
    }
   ],
   "source": [
    "U1.shape"
   ]
  },
  {
   "cell_type": "code",
   "execution_count": 34,
   "metadata": {},
   "outputs": [],
   "source": []
  },
  {
   "cell_type": "code",
   "execution_count": 35,
   "metadata": {},
   "outputs": [
    {
     "name": "stdout",
     "output_type": "stream",
     "text": [
      "Initialization complete\n",
      "Iteration 0, inertia 86.27353297947184\n",
      "Iteration 1, inertia 53.17605492696268\n",
      "Iteration 2, inertia 52.017132158220114\n",
      "Iteration 3, inertia 51.32589878421361\n",
      "Iteration 4, inertia 50.99974695298535\n",
      "Iteration 5, inertia 50.85708605986888\n",
      "Iteration 6, inertia 50.80220190835376\n",
      "Iteration 7, inertia 50.758690599261435\n",
      "Iteration 8, inertia 50.73585498021275\n",
      "Iteration 9, inertia 50.71972442121352\n",
      "Iteration 10, inertia 50.713337634106075\n",
      "Iteration 11, inertia 50.71068661044915\n",
      "Iteration 12, inertia 50.706919021802136\n",
      "Iteration 13, inertia 50.70432669115986\n",
      "Converged at iteration 13: center shift 2.474934615666404e-07 within tolerance 6.349559876836782e-07\n"
     ]
    },
    {
     "data": {
      "text/plain": [
       "KMeans(max_iter=100, n_clusters=4, n_init=1, verbose=True)"
      ]
     },
     "execution_count": 35,
     "metadata": {},
     "output_type": "execute_result"
    }
   ],
   "source": [
    "km = KMeans(n_clusters=true_k, init='k-means++', max_iter=100, n_init=1,\n",
    "                verbose=True)\n",
    "km.fit(X_tr)"
   ]
  },
  {
   "cell_type": "code",
   "execution_count": 36,
   "metadata": {},
   "outputs": [],
   "source": [
    "V_tr =  km.cluster_centers_\n",
    "V_tr.shape\n",
    "V = pca.inverse_transform(V_tr)\n",
    "\n",
    "order_centroids = np.fliplr(np.argsort(V, axis=1))"
   ]
  },
  {
   "cell_type": "code",
   "execution_count": 37,
   "metadata": {},
   "outputs": [
    {
     "name": "stdout",
     "output_type": "stream",
     "text": [
      "Cluster 0: henry space toronto access digex nasa zoo pat spencer alaska\n",
      "Cluster 1: god com don people space graphics university know just like\n",
      "Cluster 2: sandvik kent apple newton com alink ksand jesus net cookamunga\n",
      "Cluster 3: sgi livesey keith wpd solntze jon caltech com morality moral\n"
     ]
    }
   ],
   "source": [
    "for i in range(true_k):\n",
    "    print(\"Cluster %d:\" % i, end='')\n",
    "    for ind in order_centroids[i, :10]:\n",
    "        print(' %s' % terms[ind], end='')\n",
    "    print()"
   ]
  },
  {
   "cell_type": "code",
   "execution_count": null,
   "metadata": {},
   "outputs": [],
   "source": []
  }
 ],
 "metadata": {
  "anaconda-cloud": {},
  "kernelspec": {
   "display_name": "Python 3",
   "language": "python",
   "name": "python3"
  },
  "language_info": {
   "codemirror_mode": {
    "name": "ipython",
    "version": 3
   },
   "file_extension": ".py",
   "mimetype": "text/x-python",
   "name": "python",
   "nbconvert_exporter": "python",
   "pygments_lexer": "ipython3",
   "version": "3.8.3"
  }
 },
 "nbformat": 4,
 "nbformat_minor": 1
}
